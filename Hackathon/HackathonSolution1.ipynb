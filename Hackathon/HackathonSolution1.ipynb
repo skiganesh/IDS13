{
 "cells": [
  {
   "cell_type": "code",
   "execution_count": 56,
   "metadata": {},
   "outputs": [],
   "source": [
    "import pandas as pd\n",
    "import matplotlib.pyplot as plt \n",
    "%matplotlib inline \n",
    "import seaborn as sns #--> aliases"
   ]
  },
  {
   "cell_type": "code",
   "execution_count": 31,
   "metadata": {},
   "outputs": [],
   "source": [
    "#reading csv using pandas\n",
    "comdf = pd.read_csv(\"/Users/ganesh/troondx/Learning/IDS13/Hackathon/company.csv\")"
   ]
  },
  {
   "cell_type": "code",
   "execution_count": 32,
   "metadata": {},
   "outputs": [
    {
     "name": "stdout",
     "output_type": "stream",
     "text": [
      "   Company   Age  Salary     Place Country  Gender\n",
      "0      TCS  20.0     NaN   Chennai   India       0\n",
      "1  Infosys  30.0     NaN    Mumbai   India       0\n",
      "2      TCS  35.0  2300.0  Calcutta   India       0\n",
      "3  Infosys  40.0  3000.0     Delhi   India       0\n",
      "4      TCS  23.0  4000.0    Mumbai   India       0\n",
      "5  Infosys   NaN  5000.0  Calcutta   India       0\n",
      "6      TCS   NaN  6000.0   Chennai   India       1\n",
      "7  Infosys  23.0  7000.0    Mumbai   India       1\n",
      "8      TCS  34.0  8000.0  Calcutta   India       1\n",
      "9      CTS  45.0  9000.0     Delhi   India       0\n",
      "\n",
      " Schema of data\n",
      "<class 'pandas.core.frame.DataFrame'>\n",
      "RangeIndex: 148 entries, 0 to 147\n",
      "Data columns (total 6 columns):\n",
      " #   Column   Non-Null Count  Dtype  \n",
      "---  ------   --------------  -----  \n",
      " 0   Company  140 non-null    object \n",
      " 1   Age      130 non-null    float64\n",
      " 2   Salary   124 non-null    float64\n",
      " 3   Place    134 non-null    object \n",
      " 4   Country  148 non-null    object \n",
      " 5   Gender   148 non-null    int64  \n",
      "dtypes: float64(2), int64(1), object(3)\n",
      "memory usage: 7.1+ KB\n",
      "None\n",
      "\n",
      " Description of data\n",
      "              Age       Salary      Gender\n",
      "count  130.000000   124.000000  148.000000\n",
      "mean    30.484615  5312.467742    0.222973\n",
      "std     11.096640  2573.764683    0.417654\n",
      "min      0.000000  1089.000000    0.000000\n",
      "25%     22.000000  3030.000000    0.000000\n",
      "50%     32.500000  5000.000000    0.000000\n",
      "75%     37.750000  8000.000000    0.000000\n",
      "max     54.000000  9876.000000    1.000000\n"
     ]
    }
   ],
   "source": [
    "#analysing data \n",
    "print(comdf.head(10))\n",
    "# print(\"\\nShape of data\")\n",
    "# print(comdf.shape)\n",
    "# print(\"\\ncolumns of data\")\n",
    "# print(comdf.columns)\n",
    "print(\"\\n Schema of data\")\n",
    "print(comdf.info())\n",
    "print(\"\\n Description of data\")\n",
    "print(comdf.describe())"
   ]
  },
  {
   "cell_type": "code",
   "execution_count": 33,
   "metadata": {},
   "outputs": [
    {
     "data": {
      "text/plain": [
       "Company     8\n",
       "Age        18\n",
       "Salary     24\n",
       "Place      14\n",
       "Country     0\n",
       "Gender      0\n",
       "dtype: int64"
      ]
     },
     "execution_count": 33,
     "metadata": {},
     "output_type": "execute_result"
    }
   ],
   "source": [
    "comdf.isna().sum()"
   ]
  },
  {
   "cell_type": "code",
   "execution_count": 55,
   "metadata": {},
   "outputs": [
    {
     "data": {
      "text/plain": [
       "Company    0\n",
       "Age        0\n",
       "Salary     0\n",
       "Place      0\n",
       "Country    0\n",
       "Gender     0\n",
       "dtype: int64"
      ]
     },
     "execution_count": 55,
     "metadata": {},
     "output_type": "execute_result"
    }
   ],
   "source": [
    "# data preprocessing\n",
    "# Fill rows without company name, Age, Salary and Place\n",
    "comdf[\"Company\"].fillna(\"Unknown Company\", inplace = True)\n",
    "comdf['Age'].fillna(comdf['Age'].mean(), inplace=True)\n",
    "comdf['Salary'].fillna(comdf['Salary'].mean(), inplace=True)\n",
    "comdf['Place'].fillna(\"Unknow Place\", inplace=True)\n",
    "comdf.isna().sum()"
   ]
  },
  {
   "cell_type": "code",
   "execution_count": 59,
   "metadata": {},
   "outputs": [
    {
     "data": {
      "text/plain": [
       "array(['TCS', 'Infosys', 'CTS', 'Unknow Company',\n",
       "       'Tata Consultancy Services', 'Congnizant', 'Infosys Pvt Lmt'],\n",
       "      dtype=object)"
      ]
     },
     "execution_count": 59,
     "metadata": {},
     "output_type": "execute_result"
    }
   ],
   "source": [
    "# Unique company names\n",
    "comdf.Company.unique()"
   ]
  },
  {
   "cell_type": "code",
   "execution_count": 65,
   "metadata": {},
   "outputs": [
    {
     "name": "stdout",
     "output_type": "stream",
     "text": [
      "Average salary of employees in company\n"
     ]
    },
    {
     "data": {
      "text/html": [
       "<div>\n",
       "<style scoped>\n",
       "    .dataframe tbody tr th:only-of-type {\n",
       "        vertical-align: middle;\n",
       "    }\n",
       "\n",
       "    .dataframe tbody tr th {\n",
       "        vertical-align: top;\n",
       "    }\n",
       "\n",
       "    .dataframe thead th {\n",
       "        text-align: right;\n",
       "    }\n",
       "</style>\n",
       "<table border=\"1\" class=\"dataframe\">\n",
       "  <thead>\n",
       "    <tr style=\"text-align: right;\">\n",
       "      <th></th>\n",
       "      <th>Salary</th>\n",
       "    </tr>\n",
       "    <tr>\n",
       "      <th>Company</th>\n",
       "      <th></th>\n",
       "    </tr>\n",
       "  </thead>\n",
       "  <tbody>\n",
       "    <tr>\n",
       "      <th>CTS</th>\n",
       "      <td>4897.448477</td>\n",
       "    </tr>\n",
       "    <tr>\n",
       "      <th>Congnizant</th>\n",
       "      <td>2934.000000</td>\n",
       "    </tr>\n",
       "    <tr>\n",
       "      <th>Infosys</th>\n",
       "      <td>5202.086022</td>\n",
       "    </tr>\n",
       "    <tr>\n",
       "      <th>Infosys Pvt Lmt</th>\n",
       "      <td>8202.000000</td>\n",
       "    </tr>\n",
       "    <tr>\n",
       "      <th>TCS</th>\n",
       "      <td>5472.845405</td>\n",
       "    </tr>\n",
       "    <tr>\n",
       "      <th>Tata Consultancy Services</th>\n",
       "      <td>8345.000000</td>\n",
       "    </tr>\n",
       "    <tr>\n",
       "      <th>Unknow Company</th>\n",
       "      <td>5852.550403</td>\n",
       "    </tr>\n",
       "  </tbody>\n",
       "</table>\n",
       "</div>"
      ],
      "text/plain": [
       "                                Salary\n",
       "Company                               \n",
       "CTS                        4897.448477\n",
       "Congnizant                 2934.000000\n",
       "Infosys                    5202.086022\n",
       "Infosys Pvt Lmt            8202.000000\n",
       "TCS                        5472.845405\n",
       "Tata Consultancy Services  8345.000000\n",
       "Unknow Company             5852.550403"
      ]
     },
     "execution_count": 65,
     "metadata": {},
     "output_type": "execute_result"
    }
   ],
   "source": [
    "# Average salary of employees in company\n",
    "#print(comdf.groupby('Company').mean())\n",
    "print(\"Average salary of employees in company\")\n",
    "comdf.groupby('Company').agg({'Salary':np.mean})"
   ]
  },
  {
   "cell_type": "code",
   "execution_count": 67,
   "metadata": {},
   "outputs": [
    {
     "name": "stdout",
     "output_type": "stream",
     "text": [
      "Average Age of employees in company\n"
     ]
    },
    {
     "data": {
      "text/html": [
       "<div>\n",
       "<style scoped>\n",
       "    .dataframe tbody tr th:only-of-type {\n",
       "        vertical-align: middle;\n",
       "    }\n",
       "\n",
       "    .dataframe tbody tr th {\n",
       "        vertical-align: top;\n",
       "    }\n",
       "\n",
       "    .dataframe thead th {\n",
       "        text-align: right;\n",
       "    }\n",
       "</style>\n",
       "<table border=\"1\" class=\"dataframe\">\n",
       "  <thead>\n",
       "    <tr style=\"text-align: right;\">\n",
       "      <th></th>\n",
       "      <th>Age</th>\n",
       "    </tr>\n",
       "    <tr>\n",
       "      <th>Company</th>\n",
       "      <th></th>\n",
       "    </tr>\n",
       "  </thead>\n",
       "  <tbody>\n",
       "    <tr>\n",
       "      <th>CTS</th>\n",
       "      <td>32.194444</td>\n",
       "    </tr>\n",
       "    <tr>\n",
       "      <th>Congnizant</th>\n",
       "      <td>21.500000</td>\n",
       "    </tr>\n",
       "    <tr>\n",
       "      <th>Infosys</th>\n",
       "      <td>32.241709</td>\n",
       "    </tr>\n",
       "    <tr>\n",
       "      <th>Infosys Pvt Lmt</th>\n",
       "      <td>21.500000</td>\n",
       "    </tr>\n",
       "    <tr>\n",
       "      <th>TCS</th>\n",
       "      <td>28.752395</td>\n",
       "    </tr>\n",
       "    <tr>\n",
       "      <th>Tata Consultancy Services</th>\n",
       "      <td>33.500000</td>\n",
       "    </tr>\n",
       "    <tr>\n",
       "      <th>Unknow Company</th>\n",
       "      <td>28.121154</td>\n",
       "    </tr>\n",
       "  </tbody>\n",
       "</table>\n",
       "</div>"
      ],
      "text/plain": [
       "                                 Age\n",
       "Company                             \n",
       "CTS                        32.194444\n",
       "Congnizant                 21.500000\n",
       "Infosys                    32.241709\n",
       "Infosys Pvt Lmt            21.500000\n",
       "TCS                        28.752395\n",
       "Tata Consultancy Services  33.500000\n",
       "Unknow Company             28.121154"
      ]
     },
     "execution_count": 67,
     "metadata": {},
     "output_type": "execute_result"
    }
   ],
   "source": [
    "# Average age of employees in company\n",
    "print(\"Average Age of employees in company\")\n",
    "comdf.groupby('Company').agg({'Age':np.mean})"
   ]
  },
  {
   "cell_type": "code",
   "execution_count": 92,
   "metadata": {},
   "outputs": [
    {
     "name": "stdout",
     "output_type": "stream",
     "text": [
      "Total Number of employees in company\n"
     ]
    },
    {
     "data": {
      "text/html": [
       "<div>\n",
       "<style scoped>\n",
       "    .dataframe tbody tr th:only-of-type {\n",
       "        vertical-align: middle;\n",
       "    }\n",
       "\n",
       "    .dataframe tbody tr th {\n",
       "        vertical-align: top;\n",
       "    }\n",
       "\n",
       "    .dataframe thead th {\n",
       "        text-align: right;\n",
       "    }\n",
       "</style>\n",
       "<table border=\"1\" class=\"dataframe\">\n",
       "  <thead>\n",
       "    <tr style=\"text-align: right;\">\n",
       "      <th></th>\n",
       "      <th>Count</th>\n",
       "    </tr>\n",
       "    <tr>\n",
       "      <th>Company</th>\n",
       "      <th></th>\n",
       "    </tr>\n",
       "  </thead>\n",
       "  <tbody>\n",
       "    <tr>\n",
       "      <th>CTS</th>\n",
       "      <td>36</td>\n",
       "    </tr>\n",
       "    <tr>\n",
       "      <th>Congnizant</th>\n",
       "      <td>2</td>\n",
       "    </tr>\n",
       "    <tr>\n",
       "      <th>Infosys</th>\n",
       "      <td>45</td>\n",
       "    </tr>\n",
       "    <tr>\n",
       "      <th>Infosys Pvt Lmt</th>\n",
       "      <td>2</td>\n",
       "    </tr>\n",
       "    <tr>\n",
       "      <th>TCS</th>\n",
       "      <td>53</td>\n",
       "    </tr>\n",
       "    <tr>\n",
       "      <th>Tata Consultancy Services</th>\n",
       "      <td>2</td>\n",
       "    </tr>\n",
       "    <tr>\n",
       "      <th>Unknow Company</th>\n",
       "      <td>8</td>\n",
       "    </tr>\n",
       "  </tbody>\n",
       "</table>\n",
       "</div>"
      ],
      "text/plain": [
       "                           Count\n",
       "Company                         \n",
       "CTS                           36\n",
       "Congnizant                     2\n",
       "Infosys                       45\n",
       "Infosys Pvt Lmt                2\n",
       "TCS                           53\n",
       "Tata Consultancy Services      2\n",
       "Unknow Company                 8"
      ]
     },
     "execution_count": 92,
     "metadata": {},
     "output_type": "execute_result"
    }
   ],
   "source": [
    "# Total Number of employees in company\n",
    "print(\"Total Number of employees in company\")\n",
    "resultdf=comdf.groupby(comdf['Company']).count()[['Gender']]\n",
    "resultdf.rename(columns={\"Gender\": \"Count\"})"
   ]
  },
  {
   "cell_type": "code",
   "execution_count": 108,
   "metadata": {},
   "outputs": [
    {
     "name": "stdout",
     "output_type": "stream",
     "text": [
      "Average salary by Company and City\n",
      "                                             Salary\n",
      "Company                   Place                    \n",
      "CTS                       Calcutta      3771.419355\n",
      "                          Chennai       4685.155914\n",
      "                          Cochin        2903.366935\n",
      "                          Delhi         9142.000000\n",
      "                          Hyderabad     5448.822581\n",
      "                          Mumbai        4268.541219\n",
      "                          Noida         1089.000000\n",
      "                          Podicherry    5659.000000\n",
      "                          Pune          7156.233871\n",
      "                          Unknow Place  8157.489247\n",
      "Congnizant                Mumbai        2934.000000\n",
      "                          Noida         2934.000000\n",
      "Infosys                   Bhopal        7000.000000\n",
      "                          Calcutta      5626.769795\n",
      "                          Chennai       4756.666667\n",
      "                          Cochin        6578.600000\n",
      "                          Delhi         3760.744624\n",
      "                          Hyderabad     4072.666667\n",
      "                          Mumbai        4993.085044\n",
      "                          Noida         5098.000000\n",
      "                          Podicherry    3030.000000\n",
      "                          Unknow Place  6734.000000\n",
      "Infosys Pvt Lmt           Chennai       8202.000000\n",
      "                          Mumbai        8202.000000\n",
      "TCS                       Calcutta      5418.266749\n",
      "                          Chennai       6288.822581\n",
      "                          Cochin        5360.500000\n",
      "                          Delhi         4338.000000\n",
      "                          Hyderabad     3045.000000\n",
      "                          Mumbai        5219.071960\n",
      "                          Nagpur        8000.000000\n",
      "                          Noida         5089.366935\n",
      "                          Unknow Place  6584.666667\n",
      "Tata Consultancy Services Mumbai        8345.000000\n",
      "                          Unknow Place  8345.000000\n",
      "Unknow Company            Calcutta      4383.233871\n",
      "                          Chennai       8943.000000\n",
      "                          Delhi         5312.467742\n",
      "                          Hyderabad     5312.467742\n",
      "                          Mumbai        3000.000000\n",
      "                          Noida         6543.000000\n",
      "                          Unknow Place  8943.000000\n"
     ]
    }
   ],
   "source": [
    "# Average salary by Company and City\n",
    "print(\"Average salary by Company and City\")\n",
    "avgsaldf=comdf.groupby(['Company','Place']).agg({'Salary':np.mean})\n",
    "print(avgsaldf)"
   ]
  },
  {
   "cell_type": "code",
   "execution_count": 126,
   "metadata": {},
   "outputs": [
    {
     "name": "stdout",
     "output_type": "stream",
     "text": [
      "Number of male and female salary by Company and City\n",
      "Male employee\n",
      "Company    33\n",
      "dtype: int64\n",
      "FeMale employee\n",
      "Company    115\n",
      "dtype: int64\n"
     ]
    }
   ],
   "source": [
    "# Number of male and female employee\n",
    "print(\"Number of male and female salary by Company and City\")\n",
    "maledf = comdf[comdf[\"Gender\"] == 1]\n",
    "print(\"Male employee\")\n",
    "print(maledf.count()[['Company']]) \n",
    "\n",
    "femaledf = comdf[comdf[\"Gender\"] == 0]\n",
    "print(\"FeMale employee\")\n",
    "print(femaledf.count()[['Company']]) "
   ]
  },
  {
   "cell_type": "code",
   "execution_count": null,
   "metadata": {},
   "outputs": [],
   "source": []
  }
 ],
 "metadata": {
  "kernelspec": {
   "display_name": "Python 3",
   "language": "python",
   "name": "python3"
  },
  "language_info": {
   "codemirror_mode": {
    "name": "ipython",
    "version": 3
   },
   "file_extension": ".py",
   "mimetype": "text/x-python",
   "name": "python",
   "nbconvert_exporter": "python",
   "pygments_lexer": "ipython3",
   "version": "3.7.6"
  }
 },
 "nbformat": 4,
 "nbformat_minor": 4
}
